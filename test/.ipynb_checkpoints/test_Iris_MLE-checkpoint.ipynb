{
 "cells": [
  {
   "cell_type": "code",
   "execution_count": 24,
   "metadata": {},
   "outputs": [
    {
     "data": {
      "text/html": [
       "<div class=\"data-frame\"><p>150 rows × 6 columns</p><table class=\"data-frame\"><thead><tr><th></th><th>Id</th><th>SepalLengthCm</th><th>SepalWidthCm</th><th>PetalLengthCm</th><th>PetalWidthCm</th><th>Species</th></tr><tr><th></th><th title=\"Int64\">Int64</th><th title=\"Float64\">Float64</th><th title=\"Float64\">Float64</th><th title=\"Float64\">Float64</th><th title=\"Float64\">Float64</th><th title=\"String15\">String15</th></tr></thead><tbody><tr><th>1</th><td>1</td><td>5.1</td><td>3.5</td><td>1.4</td><td>0.2</td><td>Iris-setosa</td></tr><tr><th>2</th><td>2</td><td>4.9</td><td>3.0</td><td>1.4</td><td>0.2</td><td>Iris-setosa</td></tr><tr><th>3</th><td>3</td><td>4.7</td><td>3.2</td><td>1.3</td><td>0.2</td><td>Iris-setosa</td></tr><tr><th>4</th><td>4</td><td>4.6</td><td>3.1</td><td>1.5</td><td>0.2</td><td>Iris-setosa</td></tr><tr><th>5</th><td>5</td><td>5.0</td><td>3.6</td><td>1.4</td><td>0.2</td><td>Iris-setosa</td></tr><tr><th>6</th><td>6</td><td>5.4</td><td>3.9</td><td>1.7</td><td>0.4</td><td>Iris-setosa</td></tr><tr><th>7</th><td>7</td><td>4.6</td><td>3.4</td><td>1.4</td><td>0.3</td><td>Iris-setosa</td></tr><tr><th>8</th><td>8</td><td>5.0</td><td>3.4</td><td>1.5</td><td>0.2</td><td>Iris-setosa</td></tr><tr><th>9</th><td>9</td><td>4.4</td><td>2.9</td><td>1.4</td><td>0.2</td><td>Iris-setosa</td></tr><tr><th>10</th><td>10</td><td>4.9</td><td>3.1</td><td>1.5</td><td>0.1</td><td>Iris-setosa</td></tr><tr><th>11</th><td>11</td><td>5.4</td><td>3.7</td><td>1.5</td><td>0.2</td><td>Iris-setosa</td></tr><tr><th>12</th><td>12</td><td>4.8</td><td>3.4</td><td>1.6</td><td>0.2</td><td>Iris-setosa</td></tr><tr><th>13</th><td>13</td><td>4.8</td><td>3.0</td><td>1.4</td><td>0.1</td><td>Iris-setosa</td></tr><tr><th>14</th><td>14</td><td>4.3</td><td>3.0</td><td>1.1</td><td>0.1</td><td>Iris-setosa</td></tr><tr><th>15</th><td>15</td><td>5.8</td><td>4.0</td><td>1.2</td><td>0.2</td><td>Iris-setosa</td></tr><tr><th>16</th><td>16</td><td>5.7</td><td>4.4</td><td>1.5</td><td>0.4</td><td>Iris-setosa</td></tr><tr><th>17</th><td>17</td><td>5.4</td><td>3.9</td><td>1.3</td><td>0.4</td><td>Iris-setosa</td></tr><tr><th>18</th><td>18</td><td>5.1</td><td>3.5</td><td>1.4</td><td>0.3</td><td>Iris-setosa</td></tr><tr><th>19</th><td>19</td><td>5.7</td><td>3.8</td><td>1.7</td><td>0.3</td><td>Iris-setosa</td></tr><tr><th>20</th><td>20</td><td>5.1</td><td>3.8</td><td>1.5</td><td>0.3</td><td>Iris-setosa</td></tr><tr><th>21</th><td>21</td><td>5.4</td><td>3.4</td><td>1.7</td><td>0.2</td><td>Iris-setosa</td></tr><tr><th>22</th><td>22</td><td>5.1</td><td>3.7</td><td>1.5</td><td>0.4</td><td>Iris-setosa</td></tr><tr><th>23</th><td>23</td><td>4.6</td><td>3.6</td><td>1.0</td><td>0.2</td><td>Iris-setosa</td></tr><tr><th>24</th><td>24</td><td>5.1</td><td>3.3</td><td>1.7</td><td>0.5</td><td>Iris-setosa</td></tr><tr><th>25</th><td>25</td><td>4.8</td><td>3.4</td><td>1.9</td><td>0.2</td><td>Iris-setosa</td></tr><tr><th>26</th><td>26</td><td>5.0</td><td>3.0</td><td>1.6</td><td>0.2</td><td>Iris-setosa</td></tr><tr><th>27</th><td>27</td><td>5.0</td><td>3.4</td><td>1.6</td><td>0.4</td><td>Iris-setosa</td></tr><tr><th>28</th><td>28</td><td>5.2</td><td>3.5</td><td>1.5</td><td>0.2</td><td>Iris-setosa</td></tr><tr><th>29</th><td>29</td><td>5.2</td><td>3.4</td><td>1.4</td><td>0.2</td><td>Iris-setosa</td></tr><tr><th>30</th><td>30</td><td>4.7</td><td>3.2</td><td>1.6</td><td>0.2</td><td>Iris-setosa</td></tr><tr><th>&vellip;</th><td>&vellip;</td><td>&vellip;</td><td>&vellip;</td><td>&vellip;</td><td>&vellip;</td><td>&vellip;</td></tr></tbody></table></div>"
      ],
      "text/latex": [
       "\\begin{tabular}{r|cccccc}\n",
       "\t& Id & SepalLengthCm & SepalWidthCm & PetalLengthCm & PetalWidthCm & Species\\\\\n",
       "\t\\hline\n",
       "\t& Int64 & Float64 & Float64 & Float64 & Float64 & String15\\\\\n",
       "\t\\hline\n",
       "\t1 & 1 & 5.1 & 3.5 & 1.4 & 0.2 & Iris-setosa \\\\\n",
       "\t2 & 2 & 4.9 & 3.0 & 1.4 & 0.2 & Iris-setosa \\\\\n",
       "\t3 & 3 & 4.7 & 3.2 & 1.3 & 0.2 & Iris-setosa \\\\\n",
       "\t4 & 4 & 4.6 & 3.1 & 1.5 & 0.2 & Iris-setosa \\\\\n",
       "\t5 & 5 & 5.0 & 3.6 & 1.4 & 0.2 & Iris-setosa \\\\\n",
       "\t6 & 6 & 5.4 & 3.9 & 1.7 & 0.4 & Iris-setosa \\\\\n",
       "\t7 & 7 & 4.6 & 3.4 & 1.4 & 0.3 & Iris-setosa \\\\\n",
       "\t8 & 8 & 5.0 & 3.4 & 1.5 & 0.2 & Iris-setosa \\\\\n",
       "\t9 & 9 & 4.4 & 2.9 & 1.4 & 0.2 & Iris-setosa \\\\\n",
       "\t10 & 10 & 4.9 & 3.1 & 1.5 & 0.1 & Iris-setosa \\\\\n",
       "\t11 & 11 & 5.4 & 3.7 & 1.5 & 0.2 & Iris-setosa \\\\\n",
       "\t12 & 12 & 4.8 & 3.4 & 1.6 & 0.2 & Iris-setosa \\\\\n",
       "\t13 & 13 & 4.8 & 3.0 & 1.4 & 0.1 & Iris-setosa \\\\\n",
       "\t14 & 14 & 4.3 & 3.0 & 1.1 & 0.1 & Iris-setosa \\\\\n",
       "\t15 & 15 & 5.8 & 4.0 & 1.2 & 0.2 & Iris-setosa \\\\\n",
       "\t16 & 16 & 5.7 & 4.4 & 1.5 & 0.4 & Iris-setosa \\\\\n",
       "\t17 & 17 & 5.4 & 3.9 & 1.3 & 0.4 & Iris-setosa \\\\\n",
       "\t18 & 18 & 5.1 & 3.5 & 1.4 & 0.3 & Iris-setosa \\\\\n",
       "\t19 & 19 & 5.7 & 3.8 & 1.7 & 0.3 & Iris-setosa \\\\\n",
       "\t20 & 20 & 5.1 & 3.8 & 1.5 & 0.3 & Iris-setosa \\\\\n",
       "\t21 & 21 & 5.4 & 3.4 & 1.7 & 0.2 & Iris-setosa \\\\\n",
       "\t22 & 22 & 5.1 & 3.7 & 1.5 & 0.4 & Iris-setosa \\\\\n",
       "\t23 & 23 & 4.6 & 3.6 & 1.0 & 0.2 & Iris-setosa \\\\\n",
       "\t24 & 24 & 5.1 & 3.3 & 1.7 & 0.5 & Iris-setosa \\\\\n",
       "\t25 & 25 & 4.8 & 3.4 & 1.9 & 0.2 & Iris-setosa \\\\\n",
       "\t26 & 26 & 5.0 & 3.0 & 1.6 & 0.2 & Iris-setosa \\\\\n",
       "\t27 & 27 & 5.0 & 3.4 & 1.6 & 0.4 & Iris-setosa \\\\\n",
       "\t28 & 28 & 5.2 & 3.5 & 1.5 & 0.2 & Iris-setosa \\\\\n",
       "\t29 & 29 & 5.2 & 3.4 & 1.4 & 0.2 & Iris-setosa \\\\\n",
       "\t30 & 30 & 4.7 & 3.2 & 1.6 & 0.2 & Iris-setosa \\\\\n",
       "\t$\\dots$ & $\\dots$ & $\\dots$ & $\\dots$ & $\\dots$ & $\\dots$ & $\\dots$ \\\\\n",
       "\\end{tabular}\n"
      ],
      "text/plain": [
       "\u001b[1m150×6 DataFrame\u001b[0m\n",
       "\u001b[1m Row \u001b[0m│\u001b[1m Id    \u001b[0m\u001b[1m SepalLengthCm \u001b[0m\u001b[1m SepalWidthCm \u001b[0m\u001b[1m PetalLengthCm \u001b[0m\u001b[1m PetalWidthCm \u001b[0m\u001b[1m Specie\u001b[0m ⋯\n",
       "\u001b[1m     \u001b[0m│\u001b[90m Int64 \u001b[0m\u001b[90m Float64       \u001b[0m\u001b[90m Float64      \u001b[0m\u001b[90m Float64       \u001b[0m\u001b[90m Float64      \u001b[0m\u001b[90m String\u001b[0m ⋯\n",
       "─────┼──────────────────────────────────────────────────────────────────────────\n",
       "   1 │     1            5.1           3.5            1.4           0.2  Iris-s ⋯\n",
       "   2 │     2            4.9           3.0            1.4           0.2  Iris-s\n",
       "   3 │     3            4.7           3.2            1.3           0.2  Iris-s\n",
       "   4 │     4            4.6           3.1            1.5           0.2  Iris-s\n",
       "   5 │     5            5.0           3.6            1.4           0.2  Iris-s ⋯\n",
       "   6 │     6            5.4           3.9            1.7           0.4  Iris-s\n",
       "   7 │     7            4.6           3.4            1.4           0.3  Iris-s\n",
       "   8 │     8            5.0           3.4            1.5           0.2  Iris-s\n",
       "   9 │     9            4.4           2.9            1.4           0.2  Iris-s ⋯\n",
       "  10 │    10            4.9           3.1            1.5           0.1  Iris-s\n",
       "  11 │    11            5.4           3.7            1.5           0.2  Iris-s\n",
       "  ⋮  │   ⋮          ⋮             ⋮              ⋮             ⋮               ⋱\n",
       " 141 │   141            6.7           3.1            5.6           2.4  Iris-v\n",
       " 142 │   142            6.9           3.1            5.1           2.3  Iris-v ⋯\n",
       " 143 │   143            5.8           2.7            5.1           1.9  Iris-v\n",
       " 144 │   144            6.8           3.2            5.9           2.3  Iris-v\n",
       " 145 │   145            6.7           3.3            5.7           2.5  Iris-v\n",
       " 146 │   146            6.7           3.0            5.2           2.3  Iris-v ⋯\n",
       " 147 │   147            6.3           2.5            5.0           1.9  Iris-v\n",
       " 148 │   148            6.5           3.0            5.2           2.0  Iris-v\n",
       " 149 │   149            6.2           3.4            5.4           2.3  Iris-v\n",
       " 150 │   150            5.9           3.0            5.1           1.8  Iris-v ⋯\n",
       "\u001b[36m                                                   1 column and 129 rows omitted\u001b[0m"
      ]
     },
     "execution_count": 24,
     "metadata": {},
     "output_type": "execute_result"
    }
   ],
   "source": [
    "using CSV\n",
    "using DataFrames\n",
    "\n",
    "df = CSV.read(\"/home/hoanganh/Desktop/math-topics/algebraic_statistics/codes/datasets/Iris.csv\", DataFrame)"
   ]
  },
  {
   "cell_type": "code",
   "execution_count": 25,
   "metadata": {},
   "outputs": [
    {
     "data": {
      "text/plain": [
       "150×5 Array{Float64,2}:\n",
       " 5.1  3.5  1.4  0.2  1.0\n",
       " 4.9  3.0  1.4  0.2  1.0\n",
       " 4.7  3.2  1.3  0.2  1.0\n",
       " 4.6  3.1  1.5  0.2  1.0\n",
       " 5.0  3.6  1.4  0.2  1.0\n",
       " 5.4  3.9  1.7  0.4  1.0\n",
       " 4.6  3.4  1.4  0.3  1.0\n",
       " 5.0  3.4  1.5  0.2  1.0\n",
       " 4.4  2.9  1.4  0.2  1.0\n",
       " 4.9  3.1  1.5  0.1  1.0\n",
       " 5.4  3.7  1.5  0.2  1.0\n",
       " 4.8  3.4  1.6  0.2  1.0\n",
       " 4.8  3.0  1.4  0.1  1.0\n",
       " ⋮                      \n",
       " 6.0  3.0  4.8  1.8  3.0\n",
       " 6.9  3.1  5.4  2.1  3.0\n",
       " 6.7  3.1  5.6  2.4  3.0\n",
       " 6.9  3.1  5.1  2.3  3.0\n",
       " 5.8  2.7  5.1  1.9  3.0\n",
       " 6.8  3.2  5.9  2.3  3.0\n",
       " 6.7  3.3  5.7  2.5  3.0\n",
       " 6.7  3.0  5.2  2.3  3.0\n",
       " 6.3  2.5  5.0  1.9  3.0\n",
       " 6.5  3.0  5.2  2.0  3.0\n",
       " 6.2  3.4  5.4  2.3  3.0\n",
       " 5.9  3.0  5.1  1.8  3.0"
      ]
     },
     "execution_count": 25,
     "metadata": {},
     "output_type": "execute_result"
    }
   ],
   "source": [
    "nr,nc=size(df)\n",
    "nc-=1\n",
    "D=Matrix{Float64}(undef,nr,nc)\n",
    "for j=1:nr\n",
    "    for i=2:5\n",
    "        D[j,i-1]=df[j,i]\n",
    "    end\n",
    "    if df[j,6]==\"Iris-setosa\"\n",
    "        D[j,5]=1\n",
    "    elseif df[j,6]==\"Iris-versicolor\"\n",
    "        D[j,5]=2\n",
    "    else\n",
    "        D[j,5]=3\n",
    "    end\n",
    "end\n",
    "D"
   ]
  },
  {
   "cell_type": "code",
   "execution_count": 26,
   "metadata": {},
   "outputs": [
    {
     "data": {
      "text/plain": [
       "4-element Array{Float64,1}:\n",
       " 7.9\n",
       " 4.4\n",
       " 6.9\n",
       " 2.5"
      ]
     },
     "execution_count": 26,
     "metadata": {},
     "output_type": "execute_result"
    }
   ],
   "source": [
    "max_col=[maximum(D[:,j]) for j=1:4]"
   ]
  },
  {
   "cell_type": "code",
   "execution_count": 27,
   "metadata": {},
   "outputs": [
    {
     "data": {
      "text/plain": [
       "0-element Array{Int64,1}"
      ]
     },
     "execution_count": 27,
     "metadata": {},
     "output_type": "execute_result"
    }
   ],
   "source": [
    "ind_zero=Vector{Int64}([])\n",
    "for j=1:4\n",
    "    if max_col[j]>0\n",
    "        D[:,j]/=max_col[j]\n",
    "    else\n",
    "        append!(ind_zero,j)\n",
    "    end\n",
    "end\n",
    "ind_zero"
   ]
  },
  {
   "cell_type": "code",
   "execution_count": 28,
   "metadata": {},
   "outputs": [
    {
     "data": {
      "text/plain": [
       "150×5 Array{Float64,2}:\n",
       " 0.64557   0.795455  0.202899  0.08  1.0\n",
       " 0.620253  0.681818  0.202899  0.08  1.0\n",
       " 0.594937  0.727273  0.188406  0.08  1.0\n",
       " 0.582278  0.704545  0.217391  0.08  1.0\n",
       " 0.632911  0.818182  0.202899  0.08  1.0\n",
       " 0.683544  0.886364  0.246377  0.16  1.0\n",
       " 0.582278  0.772727  0.202899  0.12  1.0\n",
       " 0.632911  0.772727  0.217391  0.08  1.0\n",
       " 0.556962  0.659091  0.202899  0.08  1.0\n",
       " 0.620253  0.704545  0.217391  0.04  1.0\n",
       " 0.683544  0.840909  0.217391  0.08  1.0\n",
       " 0.607595  0.772727  0.231884  0.08  1.0\n",
       " 0.607595  0.681818  0.202899  0.04  1.0\n",
       " ⋮                                      \n",
       " 0.759494  0.681818  0.695652  0.72  3.0\n",
       " 0.873418  0.704545  0.782609  0.84  3.0\n",
       " 0.848101  0.704545  0.811594  0.96  3.0\n",
       " 0.873418  0.704545  0.73913   0.92  3.0\n",
       " 0.734177  0.613636  0.73913   0.76  3.0\n",
       " 0.860759  0.727273  0.855072  0.92  3.0\n",
       " 0.848101  0.75      0.826087  1.0   3.0\n",
       " 0.848101  0.681818  0.753623  0.92  3.0\n",
       " 0.797468  0.568182  0.724638  0.76  3.0\n",
       " 0.822785  0.681818  0.753623  0.8   3.0\n",
       " 0.78481   0.772727  0.782609  0.92  3.0\n",
       " 0.746835  0.681818  0.73913   0.72  3.0"
      ]
     },
     "execution_count": 28,
     "metadata": {},
     "output_type": "execute_result"
    }
   ],
   "source": [
    "D=D[:,setdiff(1:5,ind_zero)]"
   ]
  },
  {
   "cell_type": "code",
   "execution_count": 29,
   "metadata": {},
   "outputs": [
    {
     "data": {
      "text/plain": [
       "150×4 Array{Float64,2}:\n",
       " 0.291139  0.590909  -0.594203  -0.84\n",
       " 0.240506  0.363636  -0.594203  -0.84\n",
       " 0.189873  0.454545  -0.623188  -0.84\n",
       " 0.164557  0.409091  -0.565217  -0.84\n",
       " 0.265823  0.636364  -0.594203  -0.84\n",
       " 0.367089  0.772727  -0.507246  -0.68\n",
       " 0.164557  0.545455  -0.594203  -0.76\n",
       " 0.265823  0.545455  -0.565217  -0.84\n",
       " 0.113924  0.318182  -0.594203  -0.84\n",
       " 0.240506  0.409091  -0.565217  -0.92\n",
       " 0.367089  0.681818  -0.565217  -0.84\n",
       " 0.21519   0.545455  -0.536232  -0.84\n",
       " 0.21519   0.363636  -0.594203  -0.92\n",
       " ⋮                                   \n",
       " 0.518987  0.363636   0.391304   0.44\n",
       " 0.746835  0.409091   0.565217   0.68\n",
       " 0.696203  0.409091   0.623188   0.92\n",
       " 0.746835  0.409091   0.478261   0.84\n",
       " 0.468354  0.227273   0.478261   0.52\n",
       " 0.721519  0.454545   0.710145   0.84\n",
       " 0.696203  0.5        0.652174   1.0 \n",
       " 0.696203  0.363636   0.507246   0.84\n",
       " 0.594937  0.136364   0.449275   0.52\n",
       " 0.64557   0.363636   0.507246   0.6 \n",
       " 0.56962   0.545455   0.565217   0.84\n",
       " 0.493671  0.363636   0.478261   0.44"
      ]
     },
     "execution_count": 29,
     "metadata": {},
     "output_type": "execute_result"
    }
   ],
   "source": [
    "D[:,1:4].-=0.5\n",
    "D[:,1:4]*=2"
   ]
  },
  {
   "cell_type": "code",
   "execution_count": 30,
   "metadata": {},
   "outputs": [
    {
     "data": {
      "text/plain": [
       "1.7015410950963787"
      ]
     },
     "execution_count": 30,
     "metadata": {},
     "output_type": "execute_result"
    }
   ],
   "source": [
    "using LinearAlgebra\n",
    "\n",
    "max_norm_col=maximum(norm(D[j,1:4]) for j=1:nr) "
   ]
  },
  {
   "cell_type": "code",
   "execution_count": 31,
   "metadata": {},
   "outputs": [
    {
     "data": {
      "text/plain": [
       "150×5 Array{Float64,2}:\n",
       " 0.171103   0.347279   -0.349215  -0.49367   1.0\n",
       " 0.141346   0.21371    -0.349215  -0.49367   1.0\n",
       " 0.111589   0.267138   -0.366249  -0.49367   1.0\n",
       " 0.0967105  0.240424   -0.33218   -0.49367   1.0\n",
       " 0.156225   0.373993   -0.349215  -0.49367   1.0\n",
       " 0.215739   0.454134   -0.29811   -0.399638  1.0\n",
       " 0.0967105  0.320565   -0.349215  -0.446654  1.0\n",
       " 0.156225   0.320565   -0.33218   -0.49367   1.0\n",
       " 0.0669535  0.186996   -0.349215  -0.49367   1.0\n",
       " 0.141346   0.240424   -0.33218   -0.540686  1.0\n",
       " 0.215739   0.400706   -0.33218   -0.49367   1.0\n",
       " 0.126468   0.320565   -0.315145  -0.49367   1.0\n",
       " 0.126468   0.21371    -0.349215  -0.540686  1.0\n",
       " ⋮                                              \n",
       " 0.30501    0.21371     0.229971   0.258589  3.0\n",
       " 0.438917   0.240424    0.33218    0.399638  3.0\n",
       " 0.40916    0.240424    0.366249   0.540686  3.0\n",
       " 0.438917   0.240424    0.281075   0.49367   3.0\n",
       " 0.275253   0.133569    0.281075   0.305605  3.0\n",
       " 0.424039   0.267138    0.417354   0.49367   3.0\n",
       " 0.40916    0.293851    0.383284   0.587703  3.0\n",
       " 0.40916    0.21371     0.29811    0.49367   3.0\n",
       " 0.349646   0.0801413   0.26404    0.305605  3.0\n",
       " 0.379403   0.21371     0.29811    0.352622  3.0\n",
       " 0.334767   0.320565    0.33218    0.49367   3.0\n",
       " 0.290132   0.21371     0.281075   0.258589  3.0"
      ]
     },
     "execution_count": 31,
     "metadata": {},
     "output_type": "execute_result"
    }
   ],
   "source": [
    "D[:,1:4]/=max_norm_col\n",
    "D"
   ]
  },
  {
   "cell_type": "code",
   "execution_count": 32,
   "metadata": {},
   "outputs": [
    {
     "data": {
      "text/plain": [
       "4"
      ]
     },
     "execution_count": 32,
     "metadata": {},
     "output_type": "execute_result"
    }
   ],
   "source": [
    "Y=Vector{Matrix{Float64}}(undef,3)\n",
    "\n",
    "for k in 1:3\n",
    "    Y[k]=D[findall(u -> u == k, D[:,end]),1:4]\n",
    "end\n",
    "N=4\n"
   ]
  },
  {
   "cell_type": "code",
   "execution_count": 33,
   "metadata": {},
   "outputs": [
    {
     "data": {
      "text/plain": [
       "50×4 Array{Float64,2}:\n",
       " 0.349646  0.293851   0.434389  0.587703\n",
       " 0.275253  0.133569   0.281075  0.305605\n",
       " 0.468674  0.21371    0.417354  0.399638\n",
       " 0.349646  0.186996   0.366249  0.258589\n",
       " 0.379403  0.21371    0.400319  0.446654\n",
       " 0.543067  0.21371    0.536598  0.399638\n",
       " 0.141346  0.0801413  0.178866  0.211573\n",
       " 0.498431  0.186996   0.485493  0.258589\n",
       " 0.40916   0.0801413  0.400319  0.258589\n",
       " 0.483553  0.373993   0.451424  0.587703\n",
       " 0.379403  0.267138   0.281075  0.352622\n",
       " 0.364524  0.133569   0.315145  0.305605\n",
       " 0.424039  0.21371    0.349215  0.399638\n",
       " ⋮                                      \n",
       " 0.30501   0.21371    0.229971  0.258589\n",
       " 0.438917  0.240424   0.33218   0.399638\n",
       " 0.40916   0.240424   0.366249  0.540686\n",
       " 0.438917  0.240424   0.281075  0.49367 \n",
       " 0.275253  0.133569   0.281075  0.305605\n",
       " 0.424039  0.267138   0.417354  0.49367 \n",
       " 0.40916   0.293851   0.383284  0.587703\n",
       " 0.40916   0.21371    0.29811   0.49367 \n",
       " 0.349646  0.0801413  0.26404   0.305605\n",
       " 0.379403  0.21371    0.29811   0.352622\n",
       " 0.334767  0.320565   0.33218   0.49367 \n",
       " 0.290132  0.21371    0.281075  0.258589"
      ]
     },
     "execution_count": 33,
     "metadata": {},
     "output_type": "execute_result"
    }
   ],
   "source": [
    "Y[3]"
   ]
  },
  {
   "cell_type": "code",
   "execution_count": 34,
   "metadata": {},
   "outputs": [
    {
     "data": {
      "text/plain": [
       "40×4 Array{Float64,2}:\n",
       " 0.171103   0.347279  -0.349215  -0.49367 \n",
       " 0.141346   0.21371   -0.349215  -0.49367 \n",
       " 0.111589   0.267138  -0.366249  -0.49367 \n",
       " 0.0967105  0.240424  -0.33218   -0.49367 \n",
       " 0.156225   0.373993  -0.349215  -0.49367 \n",
       " 0.215739   0.454134  -0.29811   -0.399638\n",
       " 0.0967105  0.320565  -0.349215  -0.446654\n",
       " 0.156225   0.320565  -0.33218   -0.49367 \n",
       " 0.0669535  0.186996  -0.349215  -0.49367 \n",
       " 0.141346   0.240424  -0.33218   -0.540686\n",
       " 0.215739   0.400706  -0.33218   -0.49367 \n",
       " 0.126468   0.320565  -0.315145  -0.49367 \n",
       " 0.126468   0.21371   -0.349215  -0.540686\n",
       " ⋮                                        \n",
       " 0.185982   0.320565  -0.349215  -0.49367 \n",
       " 0.111589   0.267138  -0.315145  -0.49367 \n",
       " 0.126468   0.240424  -0.315145  -0.49367 \n",
       " 0.215739   0.320565  -0.33218   -0.399638\n",
       " 0.185982   0.507561  -0.33218   -0.540686\n",
       " 0.230617   0.534275  -0.349215  -0.49367 \n",
       " 0.141346   0.240424  -0.33218   -0.540686\n",
       " 0.156225   0.267138  -0.383284  -0.49367 \n",
       " 0.230617   0.347279  -0.366249  -0.49367 \n",
       " 0.141346   0.240424  -0.33218   -0.540686\n",
       " 0.0669535  0.21371   -0.366249  -0.49367 \n",
       " 0.171103   0.320565  -0.33218   -0.49367 "
      ]
     },
     "execution_count": 34,
     "metadata": {},
     "output_type": "execute_result"
    }
   ],
   "source": [
    "t=Vector{Int64}(undef,3)\n",
    "Y_train=Vector{Matrix{Float64}}(undef,3)\n",
    "\n",
    "for k=1:3\n",
    "    t[k]=ceil(Int64,0.8*size(Y[k],1))\n",
    "    Y_train[k]=Y[k][1:t[k],:]\n",
    "end\n",
    "\n",
    "Y_train[1]"
   ]
  },
  {
   "cell_type": "code",
   "execution_count": 35,
   "metadata": {},
   "outputs": [],
   "source": [
    "Y_test=Vector{Matrix{Float64}}(undef,3)\n",
    "\n",
    "for k=1:3\n",
    "    Y_test[k]=Y[k][(t[k]+1):end,:]\n",
    "end"
   ]
  },
  {
   "cell_type": "code",
   "execution_count": 36,
   "metadata": {},
   "outputs": [
    {
     "name": "stdout",
     "output_type": "stream",
     "text": [
      "15\n",
      "15\n",
      "15\n"
     ]
    }
   ],
   "source": [
    "d=Vector{Int64}(undef,3)\n",
    "for k=1:3\n",
    "    d[k]=2\n",
    "    println(binomial(N+d[k],N))\n",
    "end"
   ]
  },
  {
   "cell_type": "code",
   "execution_count": null,
   "metadata": {},
   "outputs": [],
   "source": []
  },
  {
   "cell_type": "code",
   "execution_count": 37,
   "metadata": {
    "scrolled": true
   },
   "outputs": [
    {
     "name": "stdout",
     "output_type": "stream",
     "text": [
      "Class 1\n",
      "\n"
     ]
    },
    {
     "name": "stderr",
     "output_type": "stream",
     "text": [
      "WARNING: replacing module ClassificationModels.\n"
     ]
    },
    {
     "name": "stdout",
     "output_type": "stream",
     "text": [
      "iter=1  val=0.3005  norm_vF=0.5940  norm_Axb=2.8386  norm_T=3.7198\n",
      "iter=2  val=-0.2926  norm_vF=0.3462  norm_Axb=0.8815  norm_T=4.4912\n",
      "iter=3  val=-0.6762  norm_vF=0.1529  norm_Axb=2.2592  norm_T=9.2691\n",
      "iter=4  val=-0.3670  norm_vF=0.2555  norm_Axb=0.5347  norm_T=4.4174\n",
      "iter=5  val=-0.6545  norm_vF=0.1955  norm_Axb=1.9241  norm_T=9.5305\n",
      "iter=6  val=-0.3986  norm_vF=0.2470  norm_Axb=0.4043  norm_T=3.7589\n",
      "iter=7  val=-0.6400  norm_vF=0.1397  norm_Axb=1.2881  norm_T=9.6574\n",
      "iter=8  val=-0.4155  norm_vF=0.3337  norm_Axb=0.7538  norm_T=4.2938\n",
      "iter=9  val=-0.6251  norm_vF=0.1550  norm_Axb=1.0774  norm_T=9.5600\n",
      "iter=10  val=-0.4236  norm_vF=0.3056  norm_Axb=0.7514  norm_T=4.3209\n",
      "iter=11  val=-0.6209  norm_vF=0.1248  norm_Axb=0.9582  norm_T=9.4497\n",
      "iter=12  val=-0.4379  norm_vF=0.2762  norm_Axb=0.7111  norm_T=4.6958\n",
      "iter=13  val=-0.6143  norm_vF=0.1393  norm_Axb=0.8704  norm_T=9.3658\n",
      "iter=14  val=-0.4451  norm_vF=0.2621  norm_Axb=0.6746  norm_T=4.5924\n",
      "iter=15  val=-0.6148  norm_vF=0.1210  norm_Axb=0.8062  norm_T=9.2881\n",
      "iter=16  val=-0.4579  norm_vF=0.2405  norm_Axb=0.6383  norm_T=4.9169\n",
      "iter=17  val=-0.6129  norm_vF=0.1315  norm_Axb=0.7581  norm_T=9.2263\n",
      "iter=18  val=-0.4652  norm_vF=0.2306  norm_Axb=0.6033  norm_T=4.7817\n",
      "iter=19  val=-0.6155  norm_vF=0.1433  norm_Axb=0.7214  norm_T=9.1712\n",
      "iter=20  val=-0.4763  norm_vF=0.2133  norm_Axb=0.5695  norm_T=5.0744\n",
      "iter=21  val=-0.6154  norm_vF=0.1416  norm_Axb=0.6942  norm_T=9.3415\n",
      "iter=22  val=-0.4867  norm_vF=0.2015  norm_Axb=0.5354  norm_T=4.9141\n",
      "iter=23  val=-0.6219  norm_vF=0.1401  norm_Axb=0.6738  norm_T=9.0976\n",
      "iter=24  val=-0.4969  norm_vF=0.1867  norm_Axb=0.5033  norm_T=5.1813\n",
      "iter=25  val=-0.6231  norm_vF=0.1500  norm_Axb=0.6594  norm_T=9.0706\n",
      "iter=26  val=-0.5033  norm_vF=0.1802  norm_Axb=0.4713  norm_T=5.0017\n",
      "iter=27  val=-0.6270  norm_vF=0.1600  norm_Axb=0.6481  norm_T=9.0509\n",
      "iter=28  val=-0.5122  norm_vF=0.1672  norm_Axb=0.4410  norm_T=5.2544\n",
      "iter=29  val=-0.6285  norm_vF=0.1382  norm_Axb=0.6413  norm_T=9.0417\n",
      "iter=30  val=-0.5183  norm_vF=0.1616  norm_Axb=0.4105  norm_T=5.0560\n",
      "iter=31  val=-0.6328  norm_vF=0.1480  norm_Axb=0.6363  norm_T=9.0341\n",
      "iter=32  val=-0.5265  norm_vF=0.1685  norm_Axb=0.3819  norm_T=4.3895\n",
      "iter=33  val=-0.6317  norm_vF=0.1291  norm_Axb=0.4554  norm_T=9.2699\n",
      "iter=34  val=-0.5315  norm_vF=0.2058  norm_Axb=0.5328  norm_T=5.2537\n",
      "iter=35  val=-0.6354  norm_vF=0.1324  norm_Axb=0.4339  norm_T=8.9680\n",
      "iter=36  val=-0.5360  norm_vF=0.1988  norm_Axb=0.5262  norm_T=5.1921\n",
      "iter=37  val=-0.6392  norm_vF=0.1428  norm_Axb=0.4309  norm_T=8.9135\n",
      "iter=38  val=-0.5427  norm_vF=0.1891  norm_Axb=0.5031  norm_T=5.4800\n",
      "iter=39  val=-0.6409  norm_vF=0.1400  norm_Axb=0.4311  norm_T=9.0750\n",
      "iter=40  val=-0.5496  norm_vF=0.1824  norm_Axb=0.4783  norm_T=5.2948\n",
      "iter=41  val=-0.6468  norm_vF=0.1379  norm_Axb=0.4330  norm_T=9.1084\n",
      "iter=42  val=-0.5589  norm_vF=0.1696  norm_Axb=0.4541  norm_T=5.5671\n",
      "iter=43  val=-0.6513  norm_vF=0.1383  norm_Axb=0.4371  norm_T=8.8234\n",
      "iter=44  val=-0.5634  norm_vF=0.1659  norm_Axb=0.4293  norm_T=5.4887\n",
      "iter=45  val=-0.6532  norm_vF=0.1503  norm_Axb=0.4286  norm_T=8.7944\n",
      "iter=46  val=-0.5673  norm_vF=0.1628  norm_Axb=0.4185  norm_T=4.6553\n",
      "iter=47  val=-0.6527  norm_vF=0.1231  norm_Axb=0.2960  norm_T=9.0566\n",
      "iter=48  val=-0.5716  norm_vF=0.2037  norm_Axb=0.5274  norm_T=5.4608\n",
      "iter=49  val=-0.6587  norm_vF=0.1306  norm_Axb=0.3064  norm_T=8.7078\n",
      "iter=50  val=-0.5770  norm_vF=0.1956  norm_Axb=0.5056  norm_T=5.7372\n",
      "\n",
      "Class 2\n",
      "\n",
      "iter=1  val=0.7521  norm_vF=0.4389  norm_Axb=2.1320  norm_T=3.5169\n",
      "iter=2  val=-0.1406  norm_vF=0.1942  norm_Axb=0.3072  norm_T=10.2179\n",
      "iter=3  val=0.6098  norm_vF=0.5734  norm_Axb=3.0533  norm_T=5.6602\n",
      "iter=4  val=-0.0622  norm_vF=0.2835  norm_Axb=0.7239  norm_T=5.1294\n",
      "iter=5  val=-0.4239  norm_vF=0.2362  norm_Axb=1.7690  norm_T=8.7599\n",
      "iter=6  val=-0.1001  norm_vF=0.2844  norm_Axb=0.5500  norm_T=4.3124\n",
      "iter=7  val=-0.4039  norm_vF=0.1684  norm_Axb=1.2956  norm_T=8.8612\n",
      "iter=8  val=-0.1201  norm_vF=0.3135  norm_Axb=0.7339  norm_T=4.9406\n",
      "iter=9  val=-0.3933  norm_vF=0.1902  norm_Axb=1.1740  norm_T=8.8521\n",
      "iter=10  val=-0.1401  norm_vF=0.2736  norm_Axb=0.6435  norm_T=5.0088\n",
      "iter=11  val=-0.3870  norm_vF=0.1431  norm_Axb=1.0932  norm_T=9.0052\n",
      "iter=12  val=-0.1620  norm_vF=0.2371  norm_Axb=0.5658  norm_T=5.0497\n",
      "iter=13  val=-0.3880  norm_vF=0.1664  norm_Axb=1.0386  norm_T=8.8770\n",
      "iter=14  val=-0.1769  norm_vF=0.2097  norm_Axb=0.4991  norm_T=5.0627\n",
      "iter=15  val=-0.3863  norm_vF=0.1889  norm_Axb=0.9992  norm_T=8.9064\n",
      "iter=16  val=-0.1897  norm_vF=0.2115  norm_Axb=0.4397  norm_T=4.3040\n",
      "iter=17  val=-0.3740  norm_vF=0.1447  norm_Axb=0.7313  norm_T=8.8911\n",
      "iter=18  val=-0.1867  norm_vF=0.2573  norm_Axb=0.6289  norm_T=5.1367\n",
      "iter=19  val=-0.3729  norm_vF=0.1633  norm_Axb=0.7002  norm_T=8.8403\n",
      "iter=20  val=-0.1963  norm_vF=0.2396  norm_Axb=0.5892  norm_T=5.3690\n",
      "iter=21  val=-0.3699  norm_vF=0.1281  norm_Axb=0.6653  norm_T=8.9355\n",
      "iter=22  val=-0.2051  norm_vF=0.2261  norm_Axb=0.5626  norm_T=5.2841\n",
      "iter=23  val=-0.3746  norm_vF=0.1443  norm_Axb=0.6513  norm_T=8.7675\n",
      "iter=24  val=-0.2149  norm_vF=0.2120  norm_Axb=0.5247  norm_T=5.3304\n",
      "iter=25  val=-0.3766  norm_vF=0.1615  norm_Axb=0.6419  norm_T=8.7443\n",
      "iter=26  val=-0.2242  norm_vF=0.1989  norm_Axb=0.4874  norm_T=5.5104\n",
      "iter=27  val=-0.3761  norm_vF=0.1588  norm_Axb=0.6256  norm_T=8.7304\n",
      "iter=28  val=-0.2300  norm_vF=0.1910  norm_Axb=0.4621  norm_T=5.3996\n",
      "iter=29  val=-0.3792  norm_vF=0.1427  norm_Axb=0.6239  norm_T=8.7184\n",
      "iter=30  val=-0.2386  norm_vF=0.1796  norm_Axb=0.4266  norm_T=5.5576\n",
      "iter=31  val=-0.3799  norm_vF=0.1585  norm_Axb=0.6136  norm_T=8.7149\n",
      "iter=32  val=-0.2440  norm_vF=0.1728  norm_Axb=0.4034  norm_T=5.4402\n",
      "iter=33  val=-0.3831  norm_vF=0.1549  norm_Axb=0.6166  norm_T=8.7179\n",
      "iter=34  val=-0.2524  norm_vF=0.1626  norm_Axb=0.3696  norm_T=5.4448\n",
      "iter=35  val=-0.3866  norm_vF=0.1416  norm_Axb=0.6214  norm_T=8.9882\n",
      "iter=36  val=-0.2639  norm_vF=0.1648  norm_Axb=0.3363  norm_T=4.5618\n",
      "iter=37  val=-0.3821  norm_vF=0.1514  norm_Axb=0.4729  norm_T=8.7089\n",
      "iter=38  val=-0.2584  norm_vF=0.1973  norm_Axb=0.4605  norm_T=5.4808\n",
      "iter=39  val=-0.3849  norm_vF=0.1495  norm_Axb=0.4768  norm_T=8.8179\n",
      "iter=40  val=-0.2676  norm_vF=0.1863  norm_Axb=0.4316  norm_T=5.5272\n",
      "iter=41  val=-0.3909  norm_vF=0.1609  norm_Axb=0.4836  norm_T=8.6738\n",
      "iter=42  val=-0.2751  norm_vF=0.1781  norm_Axb=0.4031  norm_T=5.5419\n",
      "iter=43  val=-0.3944  norm_vF=0.1544  norm_Axb=0.4911  norm_T=8.9275\n",
      "iter=44  val=-0.2850  norm_vF=0.1690  norm_Axb=0.3745  norm_T=4.6397\n",
      "iter=45  val=-0.3906  norm_vF=0.1445  norm_Axb=0.3608  norm_T=8.9023\n",
      "iter=46  val=-0.2834  norm_vF=0.2058  norm_Axb=0.4860  norm_T=5.6030\n",
      "iter=47  val=-0.3964  norm_vF=0.1526  norm_Axb=0.3682  norm_T=8.5989\n",
      "iter=48  val=-0.2891  norm_vF=0.1981  norm_Axb=0.4607  norm_T=5.7633\n",
      "iter=49  val=-0.3976  norm_vF=0.1422  norm_Axb=0.3660  norm_T=8.5686\n",
      "iter=50  val=-0.2924  norm_vF=0.1932  norm_Axb=0.4459  norm_T=5.8036\n",
      "\n",
      "Class 3\n",
      "\n",
      "iter=1  val=0.3908  norm_vF=0.5549  norm_Axb=2.6005  norm_T=3.5874\n",
      "iter=2  val=-0.2782  norm_vF=0.3008  norm_Axb=0.5049  norm_T=4.1793\n",
      "iter=3  val=-0.6628  norm_vF=0.1590  norm_Axb=2.6341  norm_T=9.8409\n",
      "iter=4  val=-0.3422  norm_vF=0.2274  norm_Axb=0.1545  norm_T=3.3880\n",
      "iter=5  val=-0.6250  norm_vF=0.1936  norm_Axb=1.6372  norm_T=10.2223\n",
      "iter=6  val=-0.3499  norm_vF=0.3625  norm_Axb=0.7198  norm_T=3.6907\n",
      "iter=7  val=-0.5915  norm_vF=0.1530  norm_Axb=1.2863  norm_T=10.1047\n",
      "iter=8  val=-0.3481  norm_vF=0.3245  norm_Axb=0.7621  norm_T=3.9933\n",
      "iter=9  val=-0.5692  norm_vF=0.1856  norm_Axb=1.0783  norm_T=9.9592\n",
      "iter=10  val=-0.3486  norm_vF=0.3014  norm_Axb=0.7554  norm_T=3.9838\n",
      "iter=11  val=-0.5608  norm_vF=0.1480  norm_Axb=0.9391  norm_T=9.8078\n",
      "iter=12  val=-0.3597  norm_vF=0.2720  norm_Axb=0.7346  norm_T=4.3841\n",
      "iter=13  val=-0.5514  norm_vF=0.1778  norm_Axb=0.8344  norm_T=9.6869\n",
      "iter=14  val=-0.3654  norm_vF=0.2589  norm_Axb=0.7142  norm_T=4.3383\n",
      "iter=15  val=-0.5500  norm_vF=0.1406  norm_Axb=0.7582  norm_T=9.5676\n",
      "iter=16  val=-0.3770  norm_vF=0.2382  norm_Axb=0.6895  norm_T=4.4824\n",
      "iter=17  val=-0.5502  norm_vF=0.1633  norm_Axb=0.7003  norm_T=9.4618\n",
      "iter=18  val=-0.3876  norm_vF=0.2209  norm_Axb=0.6638  norm_T=4.8358\n",
      "iter=19  val=-0.5476  norm_vF=0.1473  norm_Axb=0.6525  norm_T=9.3770\n",
      "iter=20  val=-0.3939  norm_vF=0.2134  norm_Axb=0.6408  norm_T=4.7142\n",
      "iter=21  val=-0.5498  norm_vF=0.1494  norm_Axb=0.6183  norm_T=9.2951\n",
      "iter=22  val=-0.4041  norm_vF=0.1991  norm_Axb=0.6139  norm_T=5.0318\n",
      "iter=23  val=-0.5495  norm_vF=0.1676  norm_Axb=0.5904  norm_T=9.2313\n",
      "iter=24  val=-0.4109  norm_vF=0.1933  norm_Axb=0.5883  norm_T=4.8924\n",
      "iter=25  val=-0.5531  norm_vF=0.1571  norm_Axb=0.5710  norm_T=9.3907\n",
      "iter=26  val=-0.4242  norm_vF=0.1794  norm_Axb=0.5602  norm_T=4.3081\n",
      "iter=27  val=-0.5520  norm_vF=0.1498  norm_Axb=0.3481  norm_T=9.0809\n",
      "iter=28  val=-0.4243  norm_vF=0.2463  norm_Axb=0.7429  norm_T=5.1022\n",
      "iter=29  val=-0.5548  norm_vF=0.1649  norm_Axb=0.3311  norm_T=8.9711\n",
      "iter=30  val=-0.4326  norm_vF=0.2360  norm_Axb=0.7213  norm_T=5.2253\n",
      "iter=31  val=-0.5584  norm_vF=0.1350  norm_Axb=0.3199  norm_T=9.1334\n",
      "iter=32  val=-0.4441  norm_vF=0.2220  norm_Axb=0.6976  norm_T=5.5504\n",
      "iter=33  val=-0.5631  norm_vF=0.1477  norm_Axb=0.3135  norm_T=8.7816\n",
      "iter=34  val=-0.4497  norm_vF=0.2185  norm_Axb=0.6731  norm_T=5.4309\n",
      "iter=35  val=-0.5669  norm_vF=0.1603  norm_Axb=0.3107  norm_T=8.7017\n",
      "iter=36  val=-0.4576  norm_vF=0.2095  norm_Axb=0.6469  norm_T=5.7377\n",
      "iter=37  val=-0.5695  norm_vF=0.1391  norm_Axb=0.3114  norm_T=8.8518\n",
      "iter=38  val=-0.4665  norm_vF=0.2028  norm_Axb=0.6193  norm_T=5.5986\n",
      "iter=39  val=-0.5764  norm_vF=0.1484  norm_Axb=0.3153  norm_T=8.5698\n",
      "iter=40  val=-0.4740  norm_vF=0.1944  norm_Axb=0.5914  norm_T=5.8844\n",
      "iter=41  val=-0.5792  norm_vF=0.1552  norm_Axb=0.3214  norm_T=8.5132\n",
      "iter=42  val=-0.4797  norm_vF=0.1912  norm_Axb=0.5628  norm_T=5.7282\n",
      "iter=43  val=-0.5834  norm_vF=0.1652  norm_Axb=0.3294  norm_T=8.4668\n",
      "iter=44  val=-0.4871  norm_vF=0.1832  norm_Axb=0.5335  norm_T=5.9994\n",
      "iter=45  val=-0.5866  norm_vF=0.1497  norm_Axb=0.3396  norm_T=8.6954\n",
      "iter=46  val=-0.4957  norm_vF=0.1762  norm_Axb=0.5036  norm_T=5.9376\n",
      "iter=47  val=-0.5918  norm_vF=0.1520  norm_Axb=0.3403  norm_T=8.3940\n",
      "iter=48  val=-0.5005  norm_vF=0.1710  norm_Axb=0.4848  norm_T=6.0843\n",
      "iter=49  val=-0.5949  norm_vF=0.1584  norm_Axb=0.3531  norm_T=8.3639\n",
      "iter=50  val=-0.5057  norm_vF=0.1764  norm_Axb=0.4550  norm_T=4.7852\n",
      "\n",
      "  1.425135 seconds (1.79 M allocations: 120.607 MiB, 4.66% gc time)\n"
     ]
    }
   ],
   "source": [
    "include(\"../src/ClassificationModels.jl\")\n",
    "using .ClassificationModels\n",
    "\n",
    "\n",
    "R=Vector{Float64}(undef,3)\n",
    "x=Vector{Vector{Float64}}(undef,3)\n",
    "\n",
    "@time begin\n",
    "for k=1:3\n",
    "    println(\"Class \",k)\n",
    "    println()\n",
    "    R[k]=1\n",
    "    x[k]=ClassificationModels.solve_opt(N,Y_train[k],t[k],R[k],d[k];delta=1,s=1,rho=1,\n",
    "                         numiter=50,eps=-1e-3,tol_eig=1e-3,ball_cons=true,feas_start=false);\n",
    "    println()\n",
    "end\n",
    "end"
   ]
  },
  {
   "cell_type": "code",
   "execution_count": 38,
   "metadata": {},
   "outputs": [
    {
     "name": "stderr",
     "output_type": "stream",
     "text": [
      "WARNING: replacing module ClassificationModels.\n"
     ]
    }
   ],
   "source": [
    "include(\"../src/ClassificationModels.jl\")\n",
    "using .ClassificationModels\n",
    "\n",
    "eval_PDF=Vector{Function}(undef,3)\n",
    "\n",
    "for k=1:3\n",
    "    eval_PDF[k]=ClassificationModels.func_eval_PDF(x[k],N,d[k],R[k],ball_cons=true)\n",
    "end"
   ]
  },
  {
   "cell_type": "code",
   "execution_count": 39,
   "metadata": {},
   "outputs": [
    {
     "data": {
      "text/plain": [
       "classifier (generic function with 1 method)"
      ]
     },
     "execution_count": 39,
     "metadata": {},
     "output_type": "execute_result"
    }
   ],
   "source": [
    "function classifier(y)\n",
    "    return findmax([eval_PDF[k](y) for k=1:3])[2]\n",
    "end"
   ]
  },
  {
   "cell_type": "code",
   "execution_count": 40,
   "metadata": {},
   "outputs": [],
   "source": [
    "predict=Vector{Vector{Int64}}(undef,3)\n",
    "\n",
    "for k=1:3\n",
    "    predict[k]=[classifier(Y_test[k][j,:]) for j in 1:size(Y_test[k],1)]\n",
    "end"
   ]
  },
  {
   "cell_type": "code",
   "execution_count": 41,
   "metadata": {},
   "outputs": [],
   "source": [
    "numcor=Vector{Int64}(undef,3)\n",
    "\n",
    "for k=1:3\n",
    "    numcor[k]=length(findall(u -> u == k, predict[k]))\n",
    "end"
   ]
  },
  {
   "cell_type": "code",
   "execution_count": 42,
   "metadata": {},
   "outputs": [
    {
     "data": {
      "text/plain": [
       "30"
      ]
     },
     "execution_count": 42,
     "metadata": {},
     "output_type": "execute_result"
    }
   ],
   "source": [
    "sum(numcor)"
   ]
  },
  {
   "cell_type": "code",
   "execution_count": 43,
   "metadata": {},
   "outputs": [
    {
     "data": {
      "text/plain": [
       "1.0"
      ]
     },
     "execution_count": 43,
     "metadata": {},
     "output_type": "execute_result"
    }
   ],
   "source": [
    "accuracy=(sum(numcor))/(sum(size(Y_test[k],1) for k=1:3))"
   ]
  },
  {
   "cell_type": "code",
   "execution_count": 44,
   "metadata": {},
   "outputs": [
    {
     "data": {
      "text/plain": [
       "120"
      ]
     },
     "execution_count": 44,
     "metadata": {},
     "output_type": "execute_result"
    }
   ],
   "source": [
    "sum(t)"
   ]
  },
  {
   "cell_type": "code",
   "execution_count": 45,
   "metadata": {},
   "outputs": [
    {
     "data": {
      "text/plain": [
       "30"
      ]
     },
     "execution_count": 45,
     "metadata": {},
     "output_type": "execute_result"
    }
   ],
   "source": [
    "150-sum(t)"
   ]
  },
  {
   "cell_type": "code",
   "execution_count": 46,
   "metadata": {},
   "outputs": [
    {
     "data": {
      "text/plain": [
       "3-element Array{Int64,1}:\n",
       " 40\n",
       " 40\n",
       " 40"
      ]
     },
     "execution_count": 46,
     "metadata": {},
     "output_type": "execute_result"
    }
   ],
   "source": [
    "t"
   ]
  },
  {
   "cell_type": "code",
   "execution_count": null,
   "metadata": {},
   "outputs": [],
   "source": []
  },
  {
   "cell_type": "code",
   "execution_count": null,
   "metadata": {},
   "outputs": [],
   "source": []
  }
 ],
 "metadata": {
  "kernelspec": {
   "display_name": "Julia 1.3.0",
   "language": "julia",
   "name": "julia-1.3"
  },
  "language_info": {
   "file_extension": ".jl",
   "mimetype": "application/julia",
   "name": "julia",
   "version": "1.3.0"
  }
 },
 "nbformat": 4,
 "nbformat_minor": 2
}
