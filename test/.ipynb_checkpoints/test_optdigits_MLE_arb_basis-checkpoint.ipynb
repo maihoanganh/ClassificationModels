{
 "cells": [
  {
   "cell_type": "code",
   "execution_count": 1,
   "metadata": {},
   "outputs": [
    {
     "data": {
      "text/plain": [
       "7646×65 Array{Float64,2}:\n",
       " 0.0  1.0   6.0  15.0  12.0   1.0   0.0  …  14.0   7.0   1.0   0.0  0.0  0.0\n",
       " 0.0  0.0  10.0  16.0   6.0   0.0   0.0     16.0  15.0   3.0   0.0  0.0  0.0\n",
       " 0.0  0.0   8.0  15.0  16.0  13.0   0.0     14.0   0.0   0.0   0.0  0.0  7.0\n",
       " 0.0  0.0   0.0   3.0  11.0  16.0   0.0      1.0  15.0   2.0   0.0  0.0  4.0\n",
       " 0.0  0.0   5.0  14.0   4.0   0.0   0.0     12.0  14.0   7.0   0.0  0.0  6.0\n",
       " 0.0  0.0  11.0  16.0  10.0   1.0   0.0  …  16.0  16.0  16.0  16.0  6.0  2.0\n",
       " 0.0  0.0   1.0  11.0  13.0  11.0   7.0     13.0   5.0   0.0   0.0  0.0  5.0\n",
       " 0.0  0.0   8.0  10.0   8.0   7.0   2.0     13.0   8.0   0.0   0.0  0.0  5.0\n",
       " 0.0  0.0  15.0   2.0  14.0  13.0   2.0     12.0   5.0   0.0   0.0  0.0  0.0\n",
       " 0.0  0.0   3.0  13.0  13.0   2.0   0.0     15.0  11.0   6.0   0.0  0.0  8.0\n",
       " 0.0  0.0   6.0  14.0  14.0  16.0  16.0  …  12.0   0.0   0.0   0.0  0.0  7.0\n",
       " 0.0  0.0   0.0   3.0  16.0  11.0   1.0      2.0  14.0  14.0   1.0  0.0  1.0\n",
       " 0.0  0.0   0.0   4.0  13.0  16.0  16.0      5.0  15.0   4.0   0.0  0.0  9.0\n",
       " ⋮                            ⋮          ⋱         ⋮                        \n",
       " 0.0  0.0   0.0   0.0   7.0  11.0   1.0      0.0   7.0  11.0   0.0  0.0  1.0\n",
       " 0.0  0.0   0.0   6.0  13.0   0.0   0.0  …   6.0   9.0   0.0   0.0  0.0  4.0\n",
       " 0.0  0.0   0.0   6.0   8.0   0.0   0.0      9.0   8.0   0.0   0.0  0.0  4.0\n",
       " 0.0  0.0   9.0  16.0   6.0   0.0   0.0     13.0   1.0   0.0   0.0  0.0  8.0\n",
       " 0.0  0.0   9.0  16.0  12.0   1.0   0.0     16.0  16.0  16.0   8.0  0.0  9.0\n",
       " 0.0  1.0  10.0  16.0  16.0   4.0   0.0     16.0  12.0   5.0   0.0  0.0  3.0\n",
       " 0.0  0.0   6.0  16.0  11.0   0.0   0.0  …  14.0  16.0  12.0   1.0  0.0  9.0\n",
       " 0.0  0.0   5.0  13.0  11.0   2.0   0.0     13.0  15.0  10.0   1.0  0.0  9.0\n",
       " 0.0  0.0   0.0   1.0  12.0   1.0   0.0      4.0   9.0   0.0   0.0  0.0  4.0\n",
       " 0.0  0.0   3.0  15.0   0.0   0.0   0.0     14.0  16.0   9.0   0.0  0.0  6.0\n",
       " 0.0  0.0   6.0  16.0   2.0   0.0   0.0     16.0  16.0  16.0   5.0  0.0  6.0\n",
       " 0.0  0.0   2.0  15.0  16.0  13.0   1.0  …  14.0   1.0   0.0   0.0  0.0  7.0"
      ]
     },
     "execution_count": 1,
     "metadata": {},
     "output_type": "execute_result"
    }
   ],
   "source": [
    "using DelimitedFiles\n",
    "\n",
    "df_train = readdlm(\"/home/hoanganh/Desktop/math-topics/algebraic_statistics/codes/datasets/optdigits.tra\", ',')\n",
    "df_test = readdlm(\"/home/hoanganh/Desktop/math-topics/algebraic_statistics/codes/datasets/optdigits.tra\", ',')\n",
    "df=[df_train;df_test]"
   ]
  },
  {
   "cell_type": "code",
   "execution_count": 2,
   "metadata": {},
   "outputs": [
    {
     "data": {
      "text/plain": [
       "7646×65 Array{Float64,2}:\n",
       " 0.0  1.0   6.0  15.0  12.0   1.0   0.0  …  14.0   7.0   1.0   0.0  0.0   1.0\n",
       " 0.0  0.0  10.0  16.0   6.0   0.0   0.0     16.0  15.0   3.0   0.0  0.0   1.0\n",
       " 0.0  0.0   8.0  15.0  16.0  13.0   0.0     14.0   0.0   0.0   0.0  0.0   8.0\n",
       " 0.0  0.0   0.0   3.0  11.0  16.0   0.0      1.0  15.0   2.0   0.0  0.0   5.0\n",
       " 0.0  0.0   5.0  14.0   4.0   0.0   0.0     12.0  14.0   7.0   0.0  0.0   7.0\n",
       " 0.0  0.0  11.0  16.0  10.0   1.0   0.0  …  16.0  16.0  16.0  16.0  6.0   3.0\n",
       " 0.0  0.0   1.0  11.0  13.0  11.0   7.0     13.0   5.0   0.0   0.0  0.0   6.0\n",
       " 0.0  0.0   8.0  10.0   8.0   7.0   2.0     13.0   8.0   0.0   0.0  0.0   6.0\n",
       " 0.0  0.0  15.0   2.0  14.0  13.0   2.0     12.0   5.0   0.0   0.0  0.0   1.0\n",
       " 0.0  0.0   3.0  13.0  13.0   2.0   0.0     15.0  11.0   6.0   0.0  0.0   9.0\n",
       " 0.0  0.0   6.0  14.0  14.0  16.0  16.0  …  12.0   0.0   0.0   0.0  0.0   8.0\n",
       " 0.0  0.0   0.0   3.0  16.0  11.0   1.0      2.0  14.0  14.0   1.0  0.0   2.0\n",
       " 0.0  0.0   0.0   4.0  13.0  16.0  16.0      5.0  15.0   4.0   0.0  0.0  10.0\n",
       " ⋮                            ⋮          ⋱         ⋮                         \n",
       " 0.0  0.0   0.0   0.0   7.0  11.0   1.0      0.0   7.0  11.0   0.0  0.0   2.0\n",
       " 0.0  0.0   0.0   6.0  13.0   0.0   0.0  …   6.0   9.0   0.0   0.0  0.0   5.0\n",
       " 0.0  0.0   0.0   6.0   8.0   0.0   0.0      9.0   8.0   0.0   0.0  0.0   5.0\n",
       " 0.0  0.0   9.0  16.0   6.0   0.0   0.0     13.0   1.0   0.0   0.0  0.0   9.0\n",
       " 0.0  0.0   9.0  16.0  12.0   1.0   0.0     16.0  16.0  16.0   8.0  0.0  10.0\n",
       " 0.0  1.0  10.0  16.0  16.0   4.0   0.0     16.0  12.0   5.0   0.0  0.0   4.0\n",
       " 0.0  0.0   6.0  16.0  11.0   0.0   0.0  …  14.0  16.0  12.0   1.0  0.0  10.0\n",
       " 0.0  0.0   5.0  13.0  11.0   2.0   0.0     13.0  15.0  10.0   1.0  0.0  10.0\n",
       " 0.0  0.0   0.0   1.0  12.0   1.0   0.0      4.0   9.0   0.0   0.0  0.0   5.0\n",
       " 0.0  0.0   3.0  15.0   0.0   0.0   0.0     14.0  16.0   9.0   0.0  0.0   7.0\n",
       " 0.0  0.0   6.0  16.0   2.0   0.0   0.0     16.0  16.0  16.0   5.0  0.0   7.0\n",
       " 0.0  0.0   2.0  15.0  16.0  13.0   1.0  …  14.0   1.0   0.0   0.0  0.0   8.0"
      ]
     },
     "execution_count": 2,
     "metadata": {},
     "output_type": "execute_result"
    }
   ],
   "source": [
    "nr,nc=size(df)\n",
    "D=Matrix{Float64}(undef,nr,nc)\n",
    "for j=1:nr\n",
    "    for i=1:65\n",
    "        D[j,i]=df[j,i]\n",
    "    end\n",
    "        \n",
    "    D[j,65]+=1\n",
    "end\n",
    "D"
   ]
  },
  {
   "cell_type": "code",
   "execution_count": 3,
   "metadata": {},
   "outputs": [
    {
     "data": {
      "text/plain": [
       "64-element Array{Float64,1}:\n",
       "  0.0\n",
       "  8.0\n",
       " 16.0\n",
       " 16.0\n",
       " 16.0\n",
       " 16.0\n",
       " 16.0\n",
       " 16.0\n",
       "  5.0\n",
       " 15.0\n",
       " 16.0\n",
       " 16.0\n",
       " 16.0\n",
       "  ⋮  \n",
       " 16.0\n",
       " 16.0\n",
       " 16.0\n",
       " 12.0\n",
       "  1.0\n",
       " 10.0\n",
       " 16.0\n",
       " 16.0\n",
       " 16.0\n",
       " 16.0\n",
       " 16.0\n",
       " 16.0"
      ]
     },
     "execution_count": 3,
     "metadata": {},
     "output_type": "execute_result"
    }
   ],
   "source": [
    "max_col=[maximum(D[:,j]) for j=1:64]"
   ]
  },
  {
   "cell_type": "code",
   "execution_count": 4,
   "metadata": {},
   "outputs": [
    {
     "data": {
      "text/plain": [
       "2-element Array{Int64,1}:\n",
       "  1\n",
       " 40"
      ]
     },
     "execution_count": 4,
     "metadata": {},
     "output_type": "execute_result"
    }
   ],
   "source": [
    "ind_zero=Vector{Int64}([])\n",
    "for j=1:64\n",
    "    if max_col[j]>0\n",
    "        D[:,j]/=max_col[j]\n",
    "    else\n",
    "        append!(ind_zero,j)\n",
    "    end\n",
    "end\n",
    "ind_zero"
   ]
  },
  {
   "cell_type": "code",
   "execution_count": 5,
   "metadata": {},
   "outputs": [
    {
     "data": {
      "text/plain": [
       "7646×63 Array{Float64,2}:\n",
       " 0.125  0.375   0.9375  0.75    …  0.4375  0.0625  0.0     0.0     1.0\n",
       " 0.0    0.625   1.0     0.375      0.9375  0.1875  0.0     0.0     1.0\n",
       " 0.0    0.5     0.9375  1.0        0.0     0.0     0.0     0.0     8.0\n",
       " 0.0    0.0     0.1875  0.6875     0.9375  0.125   0.0     0.0     5.0\n",
       " 0.0    0.3125  0.875   0.25       0.875   0.4375  0.0     0.0     7.0\n",
       " 0.0    0.6875  1.0     0.625   …  1.0     1.0     1.0     0.375   3.0\n",
       " 0.0    0.0625  0.6875  0.8125     0.3125  0.0     0.0     0.0     6.0\n",
       " 0.0    0.5     0.625   0.5        0.5     0.0     0.0     0.0     6.0\n",
       " 0.0    0.9375  0.125   0.875      0.3125  0.0     0.0     0.0     1.0\n",
       " 0.0    0.1875  0.8125  0.8125     0.6875  0.375   0.0     0.0     9.0\n",
       " 0.0    0.375   0.875   0.875   …  0.0     0.0     0.0     0.0     8.0\n",
       " 0.0    0.0     0.1875  1.0        0.875   0.875   0.0625  0.0     2.0\n",
       " 0.0    0.0     0.25    0.8125     0.9375  0.25    0.0     0.0    10.0\n",
       " ⋮                              ⋱                  ⋮                  \n",
       " 0.0    0.0     0.0     0.4375     0.4375  0.6875  0.0     0.0     2.0\n",
       " 0.0    0.0     0.375   0.8125  …  0.5625  0.0     0.0     0.0     5.0\n",
       " 0.0    0.0     0.375   0.5        0.5     0.0     0.0     0.0     5.0\n",
       " 0.0    0.5625  1.0     0.375      0.0625  0.0     0.0     0.0     9.0\n",
       " 0.0    0.5625  1.0     0.75       1.0     1.0     0.5     0.0    10.0\n",
       " 0.125  0.625   1.0     1.0        0.75    0.3125  0.0     0.0     4.0\n",
       " 0.0    0.375   1.0     0.6875  …  1.0     0.75    0.0625  0.0    10.0\n",
       " 0.0    0.3125  0.8125  0.6875     0.9375  0.625   0.0625  0.0    10.0\n",
       " 0.0    0.0     0.0625  0.75       0.5625  0.0     0.0     0.0     5.0\n",
       " 0.0    0.1875  0.9375  0.0        1.0     0.5625  0.0     0.0     7.0\n",
       " 0.0    0.375   1.0     0.125      1.0     1.0     0.3125  0.0     7.0\n",
       " 0.0    0.125   0.9375  1.0     …  0.0625  0.0     0.0     0.0     8.0"
      ]
     },
     "execution_count": 5,
     "metadata": {},
     "output_type": "execute_result"
    }
   ],
   "source": [
    "D=D[:,setdiff(1:65,ind_zero)]"
   ]
  },
  {
   "cell_type": "code",
   "execution_count": 6,
   "metadata": {},
   "outputs": [
    {
     "data": {
      "text/plain": [
       "7646×62 Array{Float64,2}:\n",
       " -0.75  -0.25    0.875   0.5    -0.875  …  -0.125  -0.875  -1.0    -1.0 \n",
       " -1.0    0.25    1.0    -0.25   -1.0        0.875  -0.625  -1.0    -1.0 \n",
       " -1.0    0.0     0.875   1.0     0.625     -1.0    -1.0    -1.0    -1.0 \n",
       " -1.0   -1.0    -0.625   0.375   1.0        0.875  -0.75   -1.0    -1.0 \n",
       " -1.0   -0.375   0.75   -0.5    -1.0        0.75   -0.125  -1.0    -1.0 \n",
       " -1.0    0.375   1.0     0.25   -0.875  …   1.0     1.0     1.0    -0.25\n",
       " -1.0   -0.875   0.375   0.625   0.375     -0.375  -1.0    -1.0    -1.0 \n",
       " -1.0    0.0     0.25    0.0    -0.125      0.0    -1.0    -1.0    -1.0 \n",
       " -1.0    0.875  -0.75    0.75    0.625     -0.375  -1.0    -1.0    -1.0 \n",
       " -1.0   -0.625   0.625   0.625  -0.75       0.375  -0.25   -1.0    -1.0 \n",
       " -1.0   -0.25    0.75    0.75    1.0    …  -1.0    -1.0    -1.0    -1.0 \n",
       " -1.0   -1.0    -0.625   1.0     0.375      0.75    0.75   -0.875  -1.0 \n",
       " -1.0   -1.0    -0.5     0.625   1.0        0.875  -0.5    -1.0    -1.0 \n",
       "  ⋮                                     ⋱                   ⋮           \n",
       " -1.0   -1.0    -1.0    -0.125   0.375     -0.125   0.375  -1.0    -1.0 \n",
       " -1.0   -1.0    -0.25    0.625  -1.0    …   0.125  -1.0    -1.0    -1.0 \n",
       " -1.0   -1.0    -0.25    0.0    -1.0        0.0    -1.0    -1.0    -1.0 \n",
       " -1.0    0.125   1.0    -0.25   -1.0       -0.875  -1.0    -1.0    -1.0 \n",
       " -1.0    0.125   1.0     0.5    -0.875      1.0     1.0     0.0    -1.0 \n",
       " -0.75   0.25    1.0     1.0    -0.5        0.5    -0.375  -1.0    -1.0 \n",
       " -1.0   -0.25    1.0     0.375  -1.0    …   1.0     0.5    -0.875  -1.0 \n",
       " -1.0   -0.375   0.625   0.375  -0.75       0.875   0.25   -0.875  -1.0 \n",
       " -1.0   -1.0    -0.875   0.5    -0.875      0.125  -1.0    -1.0    -1.0 \n",
       " -1.0   -0.625   0.875  -1.0    -1.0        1.0     0.125  -1.0    -1.0 \n",
       " -1.0   -0.25    1.0    -0.75   -1.0        1.0     1.0    -0.375  -1.0 \n",
       " -1.0   -0.75    0.875   1.0     0.625  …  -0.875  -1.0    -1.0    -1.0 "
      ]
     },
     "execution_count": 6,
     "metadata": {},
     "output_type": "execute_result"
    }
   ],
   "source": [
    "D[:,1:62].-=0.5\n",
    "D[:,1:62]*=2"
   ]
  },
  {
   "cell_type": "code",
   "execution_count": 7,
   "metadata": {},
   "outputs": [
    {
     "data": {
      "text/plain": [
       "7.522881761665539"
      ]
     },
     "execution_count": 7,
     "metadata": {},
     "output_type": "execute_result"
    }
   ],
   "source": [
    "using LinearAlgebra\n",
    "\n",
    "max_norm_col=maximum(norm(D[j,1:62]) for j=1:nr) "
   ]
  },
  {
   "cell_type": "code",
   "execution_count": 8,
   "metadata": {},
   "outputs": [
    {
     "data": {
      "text/plain": [
       "7646×63 Array{Float64,2}:\n",
       " -0.189422  -0.0631407   0.220992   …  -0.252563  -0.252563    1.0\n",
       " -0.252563   0.0631407   0.252563      -0.252563  -0.252563    1.0\n",
       " -0.252563   0.0         0.220992      -0.252563  -0.252563    8.0\n",
       " -0.252563  -0.252563   -0.157852      -0.252563  -0.252563    5.0\n",
       " -0.252563  -0.094711    0.189422      -0.252563  -0.252563    7.0\n",
       " -0.252563   0.094711    0.252563   …   0.252563  -0.0631407   3.0\n",
       " -0.252563  -0.220992    0.094711      -0.252563  -0.252563    6.0\n",
       " -0.252563   0.0         0.0631407     -0.252563  -0.252563    6.0\n",
       " -0.252563   0.220992   -0.189422      -0.252563  -0.252563    1.0\n",
       " -0.252563  -0.157852    0.157852      -0.252563  -0.252563    9.0\n",
       " -0.252563  -0.0631407   0.189422   …  -0.252563  -0.252563    8.0\n",
       " -0.252563  -0.252563   -0.157852      -0.220992  -0.252563    2.0\n",
       " -0.252563  -0.252563   -0.126281      -0.252563  -0.252563   10.0\n",
       "  ⋮                                 ⋱   ⋮                         \n",
       " -0.252563  -0.252563   -0.252563      -0.252563  -0.252563    2.0\n",
       " -0.252563  -0.252563   -0.0631407  …  -0.252563  -0.252563    5.0\n",
       " -0.252563  -0.252563   -0.0631407     -0.252563  -0.252563    5.0\n",
       " -0.252563   0.0315703   0.252563      -0.252563  -0.252563    9.0\n",
       " -0.252563   0.0315703   0.252563       0.0       -0.252563   10.0\n",
       " -0.189422   0.0631407   0.252563      -0.252563  -0.252563    4.0\n",
       " -0.252563  -0.0631407   0.252563   …  -0.220992  -0.252563   10.0\n",
       " -0.252563  -0.094711    0.157852      -0.220992  -0.252563   10.0\n",
       " -0.252563  -0.252563   -0.220992      -0.252563  -0.252563    5.0\n",
       " -0.252563  -0.157852    0.220992      -0.252563  -0.252563    7.0\n",
       " -0.252563  -0.0631407   0.252563      -0.094711  -0.252563    7.0\n",
       " -0.252563  -0.189422    0.220992   …  -0.252563  -0.252563    8.0"
      ]
     },
     "execution_count": 8,
     "metadata": {},
     "output_type": "execute_result"
    }
   ],
   "source": [
    "r=1.9\n",
    "D[:,1:62]/=max_norm_col/r\n",
    "D"
   ]
  },
  {
   "cell_type": "code",
   "execution_count": 9,
   "metadata": {},
   "outputs": [
    {
     "data": {
      "text/plain": [
       "62"
      ]
     },
     "execution_count": 9,
     "metadata": {},
     "output_type": "execute_result"
    }
   ],
   "source": [
    "Y=Vector{Matrix{Float64}}(undef,10)\n",
    "\n",
    "for k in 1:10\n",
    "    Y[k]=D[findall(u -> u == k, D[:,end]),1:62]\n",
    "end\n",
    "N=62\n"
   ]
  },
  {
   "cell_type": "code",
   "execution_count": 10,
   "metadata": {},
   "outputs": [
    {
     "data": {
      "text/plain": [
       "774×62 Array{Float64,2}:\n",
       " -0.252563  -0.252563  -0.157852   …  -0.189422   -0.252563  -0.252563\n",
       " -0.252563  -0.252563  -0.220992      -0.252563   -0.252563  -0.252563\n",
       " -0.252563  -0.252563  -0.189422      -0.157852   -0.252563  -0.252563\n",
       " -0.252563  -0.252563  -0.189422       0.0315703  -0.252563  -0.252563\n",
       " -0.252563  -0.252563  -0.220992       0.0315703  -0.252563  -0.252563\n",
       " -0.252563  -0.252563  -0.126281   …  -0.220992   -0.252563  -0.252563\n",
       " -0.252563  -0.252563  -0.252563      -0.252563   -0.252563  -0.252563\n",
       " -0.252563  -0.252563  -0.252563      -0.126281   -0.252563  -0.252563\n",
       " -0.252563  -0.252563  -0.189422       0.157852   -0.252563  -0.252563\n",
       " -0.252563  -0.252563  -0.126281       0.0315703  -0.252563  -0.252563\n",
       " -0.252563  -0.252563  -0.126281   …  -0.252563   -0.252563  -0.252563\n",
       " -0.252563  -0.252563  -0.252563       0.0        -0.252563  -0.252563\n",
       " -0.252563  -0.252563  -0.189422       0.094711   -0.252563  -0.252563\n",
       "  ⋮                                ⋱               ⋮                  \n",
       " -0.252563  -0.252563  -0.157852      -0.252563   -0.252563  -0.252563\n",
       " -0.252563  -0.252563  -0.0631407     -0.252563   -0.252563  -0.252563\n",
       " -0.252563  -0.252563  -0.157852      -0.094711   -0.252563  -0.252563\n",
       " -0.252563  -0.252563  -0.094711   …  -0.252563   -0.252563  -0.252563\n",
       " -0.252563  -0.252563  -0.157852      -0.157852   -0.252563  -0.252563\n",
       " -0.252563  -0.252563  -0.157852      -0.252563   -0.252563  -0.252563\n",
       " -0.252563  -0.252563   0.126281      -0.252563   -0.252563  -0.252563\n",
       " -0.252563  -0.252563   0.0315703     -0.252563   -0.252563  -0.252563\n",
       " -0.252563  -0.252563   0.0        …  -0.252563   -0.252563  -0.252563\n",
       " -0.252563  -0.252563  -0.0631407     -0.252563   -0.252563  -0.252563\n",
       " -0.252563  -0.252563  -0.0631407     -0.252563   -0.252563  -0.252563\n",
       " -0.252563  -0.252563  -0.220992      -0.252563   -0.252563  -0.252563"
      ]
     },
     "execution_count": 10,
     "metadata": {},
     "output_type": "execute_result"
    }
   ],
   "source": [
    "Y[5]"
   ]
  },
  {
   "cell_type": "code",
   "execution_count": 11,
   "metadata": {},
   "outputs": [
    {
     "data": {
      "text/plain": [
       "527×62 Array{Float64,2}:\n",
       " -0.189422  -0.0631407   0.220992  …  -0.220992   -0.252563  -0.252563\n",
       " -0.252563   0.0631407   0.252563     -0.157852   -0.252563  -0.252563\n",
       " -0.252563   0.220992   -0.189422     -0.252563   -0.252563  -0.252563\n",
       " -0.189422   0.0631407   0.220992     -0.252563   -0.252563  -0.252563\n",
       " -0.252563  -0.189422    0.157852     -0.126281   -0.252563  -0.252563\n",
       " -0.252563   0.0         0.252563  …  -0.094711   -0.252563  -0.252563\n",
       " -0.252563  -0.0315703   0.189422     -0.252563   -0.252563  -0.252563\n",
       " -0.252563   0.0631407   0.0          -0.252563   -0.252563  -0.252563\n",
       " -0.252563  -0.189422    0.126281      0.0        -0.252563  -0.252563\n",
       " -0.252563  -0.252563    0.0           0.0315703  -0.220992  -0.252563\n",
       " -0.252563  -0.189422    0.157852  …   0.0315703  -0.252563  -0.252563\n",
       " -0.252563  -0.094711    0.252563      0.220992   -0.220992  -0.252563\n",
       " -0.252563  -0.126281    0.094711     -0.189422   -0.252563  -0.252563\n",
       "  ⋮                                ⋱               ⋮                  \n",
       " -0.252563  -0.094711    0.252563  …  -0.126281   -0.252563  -0.252563\n",
       " -0.252563  -0.220992    0.094711     -0.094711   -0.252563  -0.252563\n",
       " -0.252563  -0.157852    0.220992      0.0315703  -0.252563  -0.252563\n",
       " -0.252563  -0.189422    0.189422     -0.189422   -0.252563  -0.252563\n",
       " -0.252563  -0.189422    0.220992     -0.252563   -0.252563  -0.252563\n",
       " -0.252563  -0.157852    0.220992  …   0.0        -0.252563  -0.252563\n",
       " -0.252563  -0.126281    0.220992     -0.0631407  -0.252563  -0.252563\n",
       " -0.252563  -0.189422    0.220992      0.0315703  -0.252563  -0.252563\n",
       " -0.252563  -0.094711    0.220992     -0.126281   -0.252563  -0.252563\n",
       " -0.252563   0.0         0.220992      0.0        -0.252563  -0.252563\n",
       " -0.252563  -0.126281    0.126281  …   0.0315703  -0.252563  -0.252563\n",
       " -0.252563  -0.157852    0.220992     -0.094711   -0.252563  -0.252563"
      ]
     },
     "execution_count": 11,
     "metadata": {},
     "output_type": "execute_result"
    }
   ],
   "source": [
    "t=Vector{Int64}(undef,10)\n",
    "Y_train=Vector{Matrix{Float64}}(undef,10)\n",
    "\n",
    "for k=1:10\n",
    "    t[k]=ceil(Int64,0.7*size(Y[k],1))\n",
    "    Y_train[k]=Y[k][1:t[k],:]\n",
    "end\n",
    "\n",
    "Y_train[1]"
   ]
  },
  {
   "cell_type": "code",
   "execution_count": 12,
   "metadata": {},
   "outputs": [],
   "source": [
    "Y_test=Vector{Matrix{Float64}}(undef,10)\n",
    "\n",
    "for k=1:10\n",
    "    Y_test[k]=Y[k][(t[k]+1):end,:]\n",
    "end"
   ]
  },
  {
   "cell_type": "code",
   "execution_count": 13,
   "metadata": {},
   "outputs": [
    {
     "name": "stdout",
     "output_type": "stream",
     "text": [
      "63\n",
      "63\n",
      "63\n",
      "63\n",
      "63\n",
      "63\n",
      "63\n",
      "63\n",
      "63\n",
      "63\n"
     ]
    }
   ],
   "source": [
    "d=Vector{Int64}(undef,10)\n",
    "for k=1:10\n",
    "    d[k]=1\n",
    "    println(binomial(N+d[k],N))\n",
    "end"
   ]
  },
  {
   "cell_type": "code",
   "execution_count": 14,
   "metadata": {},
   "outputs": [
    {
     "name": "stdout",
     "output_type": "stream",
     "text": [
      "largest_rr=1953\n"
     ]
    },
    {
     "data": {
      "text/plain": [
       "1:62"
      ]
     },
     "execution_count": 14,
     "metadata": {},
     "output_type": "execute_result"
    }
   ],
   "source": [
    "largest_rr=binomial(2+N,N)-binomial(1+N,N)\n",
    "println(\"largest_rr=\",largest_rr)\n",
    "\n",
    "#rr=largest_rr-N:largest_rr\n",
    "rr=1:N"
   ]
  },
  {
   "cell_type": "code",
   "execution_count": 15,
   "metadata": {
    "scrolled": true
   },
   "outputs": [
    {
     "name": "stdout",
     "output_type": "stream",
     "text": [
      "Class 1\n",
      "\n",
      "iter=0  val=-1.1777  norm_vF=0.0000  norm_Axb=0.9778  norm_T=1.4010\n",
      "iter=1  val=-1.7192  norm_vF=0.0000  norm_Axb=0.9620  norm_T=1.1342\n",
      "iter=2  val=-1.9165  norm_vF=0.0000  norm_Axb=0.9519  norm_T=1.0822\n",
      "iter=3  val=-2.0386  norm_vF=0.0000  norm_Axb=0.9431  norm_T=1.0574\n",
      "iter=4  val=-2.1276  norm_vF=0.0000  norm_Axb=0.9347  norm_T=1.0422\n",
      "iter=5  val=-2.1980  norm_vF=0.0000  norm_Axb=0.9266  norm_T=1.0316\n",
      "iter=6  val=-2.2564  norm_vF=0.0000  norm_Axb=0.9186  norm_T=1.0235\n",
      "iter=7  val=-2.3066  norm_vF=0.0000  norm_Axb=0.9108  norm_T=1.0172\n",
      "iter=8  val=-2.3506  norm_vF=0.0000  norm_Axb=0.9029  norm_T=1.0119\n",
      "iter=9  val=-2.3899  norm_vF=0.0000  norm_Axb=0.8951  norm_T=1.0075\n",
      "iter=10  val=-2.4254  norm_vF=0.0000  norm_Axb=0.8873  norm_T=1.0037\n",
      "Class 2\n",
      "\n",
      "iter=0  val=-1.1937  norm_vF=0.0000  norm_Axb=0.9784  norm_T=1.4082\n",
      "iter=1  val=-1.7407  norm_vF=0.0000  norm_Axb=0.9624  norm_T=1.1356\n",
      "iter=2  val=-1.9390  norm_vF=0.0000  norm_Axb=0.9522  norm_T=1.0830\n",
      "iter=3  val=-2.0616  norm_vF=0.0000  norm_Axb=0.9434  norm_T=1.0581\n",
      "iter=4  val=-2.1509  norm_vF=0.0000  norm_Axb=0.9350  norm_T=1.0428\n",
      "iter=5  val=-2.2215  norm_vF=0.0000  norm_Axb=0.9269  norm_T=1.0320\n",
      "iter=6  val=-2.2801  norm_vF=0.0000  norm_Axb=0.9189  norm_T=1.0240\n",
      "iter=7  val=-2.3303  norm_vF=0.0000  norm_Axb=0.9110  norm_T=1.0176\n",
      "iter=8  val=-2.3744  norm_vF=0.0000  norm_Axb=0.9031  norm_T=1.0123\n",
      "iter=9  val=-2.4138  norm_vF=0.0000  norm_Axb=0.8953  norm_T=1.0078\n",
      "iter=10  val=-2.4495  norm_vF=0.0000  norm_Axb=0.8875  norm_T=1.0040\n",
      "Class 3\n",
      "\n",
      "iter=0  val=-1.1671  norm_vF=0.0000  norm_Axb=0.9775  norm_T=1.3999\n",
      "iter=1  val=-1.7080  norm_vF=0.0000  norm_Axb=0.9611  norm_T=1.1336\n",
      "iter=2  val=-1.9053  norm_vF=0.0000  norm_Axb=0.9509  norm_T=1.0815\n",
      "iter=3  val=-2.0276  norm_vF=0.0000  norm_Axb=0.9419  norm_T=1.0567\n",
      "iter=4  val=-2.1167  norm_vF=0.0000  norm_Axb=0.9334  norm_T=1.0414\n",
      "iter=5  val=-2.1873  norm_vF=0.0000  norm_Axb=0.9252  norm_T=1.0307\n",
      "iter=6  val=-2.2459  norm_vF=0.0000  norm_Axb=0.9171  norm_T=1.0226\n",
      "iter=7  val=-2.2961  norm_vF=0.0000  norm_Axb=0.9092  norm_T=1.0162\n",
      "iter=8  val=-2.3403  norm_vF=0.0000  norm_Axb=0.9013  norm_T=1.0109\n",
      "iter=9  val=-2.3797  norm_vF=0.0000  norm_Axb=0.8934  norm_T=1.0065\n",
      "iter=10  val=-2.4155  norm_vF=0.0000  norm_Axb=0.8856  norm_T=1.0026\n",
      "Class 4\n",
      "\n",
      "iter=0  val=-1.1652  norm_vF=0.0000  norm_Axb=0.9775  norm_T=1.3996\n",
      "iter=1  val=-1.7057  norm_vF=0.0000  norm_Axb=0.9613  norm_T=1.1337\n",
      "iter=2  val=-1.9030  norm_vF=0.0000  norm_Axb=0.9511  norm_T=1.0816\n",
      "iter=3  val=-2.0251  norm_vF=0.0000  norm_Axb=0.9422  norm_T=1.0568\n",
      "iter=4  val=-2.1142  norm_vF=0.0000  norm_Axb=0.9338  norm_T=1.0416\n",
      "iter=5  val=-2.1847  norm_vF=0.0000  norm_Axb=0.9256  norm_T=1.0309\n",
      "iter=6  val=-2.2433  norm_vF=0.0000  norm_Axb=0.9175  norm_T=1.0228\n",
      "iter=7  val=-2.2935  norm_vF=0.0000  norm_Axb=0.9096  norm_T=1.0164\n",
      "iter=8  val=-2.3376  norm_vF=0.0000  norm_Axb=0.9017  norm_T=1.0112\n",
      "iter=9  val=-2.3770  norm_vF=0.0000  norm_Axb=0.8939  norm_T=1.0067\n",
      "iter=10  val=-2.4127  norm_vF=0.0000  norm_Axb=0.8861  norm_T=1.0029\n",
      "Class 5\n",
      "\n",
      "iter=0  val=-1.1102  norm_vF=0.0000  norm_Axb=0.9766  norm_T=1.4084\n",
      "iter=1  val=-1.6584  norm_vF=0.0000  norm_Axb=0.9591  norm_T=1.1333\n",
      "iter=2  val=-1.8572  norm_vF=0.0000  norm_Axb=0.9482  norm_T=1.0802\n",
      "iter=3  val=-1.9803  norm_vF=0.0000  norm_Axb=0.9389  norm_T=1.0550\n",
      "iter=4  val=-2.0701  norm_vF=0.0000  norm_Axb=0.9301  norm_T=1.0395\n",
      "iter=5  val=-2.1412  norm_vF=0.0000  norm_Axb=0.9216  norm_T=1.0285\n",
      "iter=6  val=-2.2004  norm_vF=0.0000  norm_Axb=0.9134  norm_T=1.0203\n",
      "iter=7  val=-2.2511  norm_vF=0.0000  norm_Axb=0.9052  norm_T=1.0137\n",
      "iter=8  val=-2.2957  norm_vF=0.0000  norm_Axb=0.8972  norm_T=1.0083\n",
      "iter=9  val=-2.3356  norm_vF=0.0000  norm_Axb=0.8891  norm_T=1.0038\n",
      "iter=10  val=-2.3717  norm_vF=0.0000  norm_Axb=0.8812  norm_T=0.9998\n",
      "Class 6\n",
      "\n",
      "iter=0  val=-1.1295  norm_vF=0.0000  norm_Axb=0.9767  norm_T=1.4003\n",
      "iter=1  val=-1.6712  norm_vF=0.0000  norm_Axb=0.9599  norm_T=1.1329\n",
      "iter=2  val=-1.8689  norm_vF=0.0000  norm_Axb=0.9494  norm_T=1.0805\n",
      "iter=3  val=-1.9914  norm_vF=0.0000  norm_Axb=0.9402  norm_T=1.0556\n",
      "iter=4  val=-2.0808  norm_vF=0.0000  norm_Axb=0.9316  norm_T=1.0402\n",
      "iter=5  val=-2.1516  norm_vF=0.0000  norm_Axb=0.9232  norm_T=1.0294\n",
      "iter=6  val=-2.2104  norm_vF=0.0000  norm_Axb=0.9151  norm_T=1.0213\n",
      "iter=7  val=-2.2609  norm_vF=0.0000  norm_Axb=0.9070  norm_T=1.0148\n",
      "iter=8  val=-2.3053  norm_vF=0.0000  norm_Axb=0.8990  norm_T=1.0095\n",
      "iter=9  val=-2.3449  norm_vF=0.0000  norm_Axb=0.8911  norm_T=1.0049\n",
      "iter=10  val=-2.3809  norm_vF=0.0000  norm_Axb=0.8832  norm_T=1.0010\n",
      "Class 7\n",
      "\n",
      "iter=0  val=-1.2173  norm_vF=0.0000  norm_Axb=0.9785  norm_T=1.4009\n",
      "iter=1  val=-1.7582  norm_vF=0.0000  norm_Axb=0.9629  norm_T=1.1349\n",
      "iter=2  val=-1.9553  norm_vF=0.0000  norm_Axb=0.9531  norm_T=1.0829\n",
      "iter=3  val=-2.0772  norm_vF=0.0000  norm_Axb=0.9444  norm_T=1.0583\n",
      "iter=4  val=-2.1660  norm_vF=0.0000  norm_Axb=0.9361  norm_T=1.0431\n",
      "iter=5  val=-2.2362  norm_vF=0.0000  norm_Axb=0.9281  norm_T=1.0326\n",
      "iter=6  val=-2.2945  norm_vF=0.0000  norm_Axb=0.9202  norm_T=1.0246\n",
      "iter=7  val=-2.3445  norm_vF=0.0000  norm_Axb=0.9124  norm_T=1.0183\n",
      "iter=8  val=-2.3883  norm_vF=0.0000  norm_Axb=0.9046  norm_T=1.0131\n",
      "iter=9  val=-2.4275  norm_vF=0.0000  norm_Axb=0.8969  norm_T=1.0087\n",
      "iter=10  val=-2.4629  norm_vF=0.0000  norm_Axb=0.8891  norm_T=1.0049\n",
      "Class 8\n",
      "\n",
      "iter=0  val=-1.1833  norm_vF=0.0000  norm_Axb=0.9778  norm_T=1.3995\n",
      "iter=1  val=-1.7235  norm_vF=0.0000  norm_Axb=0.9617  norm_T=1.1339\n",
      "iter=2  val=-1.9206  norm_vF=0.0000  norm_Axb=0.9515  norm_T=1.0819\n",
      "iter=3  val=-2.0427  norm_vF=0.0000  norm_Axb=0.9426  norm_T=1.0572\n",
      "iter=4  val=-2.1318  norm_vF=0.0000  norm_Axb=0.9342  norm_T=1.0419\n",
      "iter=5  val=-2.2022  norm_vF=0.0000  norm_Axb=0.9261  norm_T=1.0313\n",
      "iter=6  val=-2.2607  norm_vF=0.0000  norm_Axb=0.9181  norm_T=1.0232\n",
      "iter=7  val=-2.3109  norm_vF=0.0000  norm_Axb=0.9101  norm_T=1.0168\n",
      "iter=8  val=-2.3549  norm_vF=0.0000  norm_Axb=0.9023  norm_T=1.0116\n",
      "iter=9  val=-2.3943  norm_vF=0.0000  norm_Axb=0.8944  norm_T=1.0071\n",
      "iter=10  val=-2.4299  norm_vF=0.0000  norm_Axb=0.8866  norm_T=1.0033\n",
      "Class 9\n",
      "\n",
      "iter=0  val=-1.1080  norm_vF=0.0000  norm_Axb=0.9768  norm_T=1.4029\n",
      "iter=1  val=-1.6519  norm_vF=0.0000  norm_Axb=0.9598  norm_T=1.1332\n",
      "iter=2  val=-1.8501  norm_vF=0.0000  norm_Axb=0.9491  norm_T=1.0806\n",
      "iter=3  val=-1.9728  norm_vF=0.0000  norm_Axb=0.9399  norm_T=1.0556\n",
      "iter=4  val=-2.0624  norm_vF=0.0000  norm_Axb=0.9312  norm_T=1.0401\n",
      "iter=5  val=-2.1334  norm_vF=0.0000  norm_Axb=0.9228  norm_T=1.0293\n",
      "iter=6  val=-2.1923  norm_vF=0.0000  norm_Axb=0.9146  norm_T=1.0211\n",
      "iter=7  val=-2.2429  norm_vF=0.0000  norm_Axb=0.9065  norm_T=1.0146\n",
      "iter=8  val=-2.2874  norm_vF=0.0000  norm_Axb=0.8985  norm_T=1.0092\n",
      "iter=9  val=-2.3271  norm_vF=0.0000  norm_Axb=0.8905  norm_T=1.0047\n",
      "iter=10  val=-2.3631  norm_vF=0.0000  norm_Axb=0.8826  norm_T=1.0008\n",
      "Class 10\n",
      "\n",
      "iter=0  val=-1.0835  norm_vF=0.0000  norm_Axb=0.9761  norm_T=1.4030\n",
      "iter=1  val=-1.6279  norm_vF=0.0000  norm_Axb=0.9585  norm_T=1.1324\n",
      "iter=2  val=-1.8263  norm_vF=0.0000  norm_Axb=0.9476  norm_T=1.0796\n",
      "iter=3  val=-1.9493  norm_vF=0.0000  norm_Axb=0.9381  norm_T=1.0544\n",
      "iter=4  val=-2.0392  norm_vF=0.0000  norm_Axb=0.9293  norm_T=1.0389\n",
      "iter=5  val=-2.1103  norm_vF=0.0000  norm_Axb=0.9208  norm_T=1.0280\n",
      "iter=6  val=-2.1694  norm_vF=0.0000  norm_Axb=0.9125  norm_T=1.0197\n",
      "iter=7  val=-2.2203  norm_vF=0.0000  norm_Axb=0.9043  norm_T=1.0132\n",
      "iter=8  val=-2.2649  norm_vF=0.0000  norm_Axb=0.8962  norm_T=1.0077\n",
      "iter=9  val=-2.3048  norm_vF=0.0000  norm_Axb=0.8882  norm_T=1.0032\n",
      "iter=10  val=-2.3410  norm_vF=0.0000  norm_Axb=0.8802  norm_T=0.9992\n",
      "119.533273 seconds (369.50 M allocations: 65.320 GiB, 6.74% gc time)\n"
     ]
    }
   ],
   "source": [
    "include(\"../src/ClassificationModels.jl\")\n",
    "using .ClassificationModels\n",
    "\n",
    "\n",
    "R=Vector{Float64}(undef,10)\n",
    "x=Vector{Vector{Float64}}(undef,10)\n",
    "\n",
    "@time begin\n",
    "for k=1:10\n",
    "    println(\"Class \",k)\n",
    "    println()\n",
    "    R[k]=r\n",
    "    x[k]=ClassificationModels.solve_opt_arb_basis(N,Y_train[k],t[k],R[k],d[k],rr;delta=1,s=1,rho=1,\n",
    "                         numiter=1e1,eps=1e-2,tol_eig=1e-3);\n",
    "end\n",
    "end"
   ]
  },
  {
   "cell_type": "code",
   "execution_count": 16,
   "metadata": {},
   "outputs": [
    {
     "name": "stderr",
     "output_type": "stream",
     "text": [
      "WARNING: replacing module ClassificationModels.\n"
     ]
    }
   ],
   "source": [
    "include(\"../src/ClassificationModels.jl\")\n",
    "using .ClassificationModels\n",
    "\n",
    "eval_PDF=Vector{Function}(undef,10)\n",
    "\n",
    "for k=1:10\n",
    "    eval_PDF[k]=ClassificationModels.func_eval_PDF_arb_basis(x[k],N,d[k],R[k],rr)\n",
    "end"
   ]
  },
  {
   "cell_type": "code",
   "execution_count": 17,
   "metadata": {},
   "outputs": [
    {
     "data": {
      "text/plain": [
       "classifier (generic function with 1 method)"
      ]
     },
     "execution_count": 17,
     "metadata": {},
     "output_type": "execute_result"
    }
   ],
   "source": [
    "function classifier(y)\n",
    "    return findmax([eval_PDF[k](y) for k=1:10])[2]\n",
    "end"
   ]
  },
  {
   "cell_type": "code",
   "execution_count": 18,
   "metadata": {},
   "outputs": [],
   "source": [
    "predict=Vector{Vector{Int64}}(undef,10)\n",
    "\n",
    "for k=1:10\n",
    "    predict[k]=[classifier(Y_test[k][j,:]) for j in 1:size(Y_test[k],1)]\n",
    "end"
   ]
  },
  {
   "cell_type": "code",
   "execution_count": 19,
   "metadata": {},
   "outputs": [],
   "source": [
    "numcor=Vector{Int64}(undef,10)\n",
    "\n",
    "for k=1:10\n",
    "    numcor[k]=length(findall(u -> u == k, predict[k]))\n",
    "end"
   ]
  },
  {
   "cell_type": "code",
   "execution_count": 20,
   "metadata": {},
   "outputs": [
    {
     "data": {
      "text/plain": [
       "2122"
      ]
     },
     "execution_count": 20,
     "metadata": {},
     "output_type": "execute_result"
    }
   ],
   "source": [
    "sum(numcor)"
   ]
  },
  {
   "cell_type": "code",
   "execution_count": 21,
   "metadata": {},
   "outputs": [
    {
     "data": {
      "text/plain": [
       "0.9262330859886513"
      ]
     },
     "execution_count": 21,
     "metadata": {},
     "output_type": "execute_result"
    }
   ],
   "source": [
    "accuracy=(sum(numcor))/(sum(size(Y_test[k],1) for k=1:10))"
   ]
  },
  {
   "cell_type": "code",
   "execution_count": 22,
   "metadata": {},
   "outputs": [
    {
     "data": {
      "text/plain": [
       "5355"
      ]
     },
     "execution_count": 22,
     "metadata": {},
     "output_type": "execute_result"
    }
   ],
   "source": [
    "sum(t)"
   ]
  },
  {
   "cell_type": "code",
   "execution_count": 23,
   "metadata": {},
   "outputs": [
    {
     "data": {
      "text/plain": [
       "2291"
      ]
     },
     "execution_count": 23,
     "metadata": {},
     "output_type": "execute_result"
    }
   ],
   "source": [
    "7646-sum(t)"
   ]
  },
  {
   "cell_type": "code",
   "execution_count": 24,
   "metadata": {},
   "outputs": [
    {
     "data": {
      "text/plain": [
       "10-element Array{Int64,1}:\n",
       " 527\n",
       " 545\n",
       " 532\n",
       " 545\n",
       " 542\n",
       " 527\n",
       " 528\n",
       " 542\n",
       " 532\n",
       " 535"
      ]
     },
     "execution_count": 24,
     "metadata": {},
     "output_type": "execute_result"
    }
   ],
   "source": [
    "t"
   ]
  },
  {
   "cell_type": "code",
   "execution_count": null,
   "metadata": {},
   "outputs": [],
   "source": []
  },
  {
   "cell_type": "code",
   "execution_count": null,
   "metadata": {},
   "outputs": [],
   "source": []
  },
  {
   "cell_type": "code",
   "execution_count": null,
   "metadata": {},
   "outputs": [],
   "source": []
  }
 ],
 "metadata": {
  "kernelspec": {
   "display_name": "Julia 1.3.0",
   "language": "julia",
   "name": "julia-1.3"
  },
  "language_info": {
   "file_extension": ".jl",
   "mimetype": "application/julia",
   "name": "julia",
   "version": "1.3.0"
  }
 },
 "nbformat": 4,
 "nbformat_minor": 2
}
